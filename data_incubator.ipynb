{
 "cells": [
  {
   "cell_type": "code",
   "execution_count": 2,
   "metadata": {},
   "outputs": [
    {
     "name": "stderr",
     "output_type": "stream",
     "text": [
      "/Library/Frameworks/Python.framework/Versions/3.7/lib/python3.7/site-packages/IPython/core/display.py:689: UserWarning:\n",
      "\n",
      "Consider using IPython.display.IFrame instead\n",
      "\n"
     ]
    },
    {
     "data": {
      "text/html": [
       "<iframe id=\"igraph\" scrolling=\"no\" style=\"border:none;\" seamless=\"seamless\" src=\"https://plot.ly/~mehrnazmo/5.embed\" height=\"525px\" width=\"100%\"></iframe>"
      ],
      "text/plain": [
       "<plotly.tools.PlotlyDisplay object>"
      ]
     },
     "execution_count": 2,
     "metadata": {},
     "output_type": "execute_result"
    }
   ],
   "source": [
    "import os\n",
    "import plotly.plotly as py\n",
    "import plotly.graph_objs as go\n",
    "\n",
    "with open('FileName (1).txt', 'r') as f:\n",
    "    reader = f.readlines()\n",
    "    my_data = list(reader)\n",
    "\n",
    "\n",
    "# trace = go.Heatmap(z=[[996,408,307,367,375,495,1015],\n",
    "#                       [360,523,529,524,521,505,425],\n",
    "#                       [417,500,444,423,465,473,511],\n",
    "#                      [596,578,625,637,617,667,675],\n",
    "#                      [770,753,668,745,780,886,850],\n",
    "#                       [855,757,658,783,830,921,1001],\n",
    "#                      [618,573,565,580,690,951,957]])\n",
    "\n",
    "import plotly.plotly as py\n",
    "import plotly.graph_objs as go\n",
    "\n",
    "trace = go.Heatmap(z=[[618,573,565,580,690,951,957],\n",
    "                      [855,757,658,783,830,921,1001],\n",
    "                      [770,753,668,745,780,886,850],\n",
    "                      [596,578,625,637,617,667,675],\n",
    "                       [417,500,444,423,465,473,511],\n",
    "                       [360,523,529,524,521,505,425],\n",
    "                        [996,408,307,367,375,495,1015]],\n",
    "                   x=['Sunday','Monday', 'Tuesday', 'Wednesday', 'Thursday', 'Friday','Saturday'],\n",
    "                   y=['9-12 p.m.','6-9 p.m.','3-6 p.m.','12-3 p.m.','9-12 a.m.','6-9 a.m.','12-3 a.m.'],\n",
    "                  colorscale='Viridis')\n",
    "data=[trace]\n",
    "py.iplot(data, filename='basic-heatmap')"
   ]
  },
  {
   "cell_type": "code",
   "execution_count": 3,
   "metadata": {},
   "outputs": [],
   "source": [
    "with open('person type.xls', 'r') as f:\n",
    "    reader = f.readlines()\n",
    "    my_data = list(reader)"
   ]
  },
  {
   "cell_type": "code",
   "execution_count": 4,
   "metadata": {},
   "outputs": [
    {
     "name": "stdout",
     "output_type": "stream",
     "text": [
      "Year\tPassenger Cars\tLight Trucks\tLarge Trucks\tMotorcycles\tBuses\tOther/ Unknown\tTotal\tPedestrian\tPedalcyclist\tOther\tTotal\tUnknown Person Type \tTotal\t\n",
      "\n"
     ]
    }
   ],
   "source": [
    "print(my_data[2])"
   ]
  },
  {
   "cell_type": "code",
   "execution_count": 5,
   "metadata": {},
   "outputs": [
    {
     "name": "stdout",
     "output_type": "stream",
     "text": [
      "1994\t21997\t8904\t670\t2320\t18\t409\t31998\t5489\t802\t107\t6398\t0\t40716\t\n",
      "\n",
      "1995\t22423\t9568\t648\t2227\t33\t392\t33064\t5584\t833\t109\t6526\t0\t41817\t\n",
      "\n",
      "1996\t22505\t9932\t621\t2161\t21\t455\t33534\t5449\t765\t154\t6368\t2\t42065\t\n",
      "\n",
      "1997\t22199\t10249\t723\t2116\t18\t420\t33609\t5321\t814\t153\t6288\t0\t42013\t\n",
      "\n",
      "1998\t21194\t10705\t742\t2294\t38\t409\t33088\t5228\t760\t131\t6119\t0\t41501\t\n",
      "\n",
      "1999\t20862\t11265\t759\t2483\t59\t447\t33392\t4939\t754\t149\t5842\t0\t41717\t\n",
      "\n",
      "2000\t20699\t11526\t754\t2897\t22\t450\t33451\t4763\t693\t141\t5597\t0\t41945\t\n",
      "\n",
      "2001\t20320\t11723\t708\t3197\t34\t458\t33243\t4901\t732\t123\t5756\t0\t42196\t\n",
      "\n",
      "2002\t20569\t12274\t689\t3270\t45\t528\t34105\t4851\t665\t114\t5630\t0\t43005\t\n",
      "\n",
      "2003\t19725\t12546\t726\t3714\t41\t589\t33627\t4774\t629\t140\t5543\t0\t42884\t\n",
      "\n",
      "2004\t19192\t12674\t766\t4028\t42\t602\t33276\t4675\t727\t130\t5532\t0\t42836\t\n",
      "\n",
      "2005\t18512\t13037\t804\t4576\t58\t659\t33070\t4892\t786\t186\t5864\t0\t43510\t\n",
      "\n",
      "2006\t17925\t12761\t805\t4837\t27\t601\t32119\t4795\t772\t185\t5752\t0\t42708\t\n",
      "\n",
      "2007\t16614\t12458\t805\t5174\t36\t614\t30527\t4699\t701\t158\t5558\t0\t41259\t\n",
      "\n"
     ]
    }
   ],
   "source": [
    "print(my_data[4]);\n",
    "print(my_data[5]);\n",
    "print(my_data[6]);\n",
    "print(my_data[7]);\n",
    "print(my_data[8]);\n",
    "print(my_data[9]);\n",
    "print(my_data[10]);\n",
    "print(my_data[11]);\n",
    "print(my_data[12]);\n",
    "print(my_data[13]);\n",
    "print(my_data[14]);\n",
    "print(my_data[15]);\n",
    "print(my_data[16]);\n",
    "print(my_data[17]);\n"
   ]
  },
  {
   "cell_type": "code",
   "execution_count": 9,
   "metadata": {},
   "outputs": [],
   "source": [
    "year = list();\n",
    "Passenger_Cars = list();\n",
    "Light_Trucks = list();\n",
    "Large_Trucks = list();\n",
    "Motorcycles = list();\n",
    "Buses = list();\n",
    "Pedestrian = list();\n",
    "Pedalcyclist = list();\n",
    "for i in my_data:\n",
    "    dat = [int(s) for s in i.split() if s.isdigit()];\n",
    "    if dat: \n",
    "        year.append(dat[0]);\n",
    "        Passenger_Cars.append(dat[1]);\n",
    "        Light_Trucks.append(dat[2]);\n",
    "        Large_Trucks.append(dat[3]);\n",
    "        Motorcycles.append(dat[4]);\n",
    "        Buses.append(dat[5]);\n",
    "        Pedestrian.append(dat[8]);\n",
    "        Pedalcyclist.append(dat[9]);"
   ]
  },
  {
   "cell_type": "code",
   "execution_count": 10,
   "metadata": {},
   "outputs": [
    {
     "data": {
      "text/html": [
       "<iframe id=\"igraph\" scrolling=\"no\" style=\"border:none;\" seamless=\"seamless\" src=\"https://plot.ly/~mehrnazmo/9.embed\" height=\"525px\" width=\"100%\"></iframe>"
      ],
      "text/plain": [
       "<plotly.tools.PlotlyDisplay object>"
      ]
     },
     "execution_count": 10,
     "metadata": {},
     "output_type": "execute_result"
    }
   ],
   "source": [
    "x = year;\n",
    "\n",
    "trace1 = {\n",
    "  'x': x,\n",
    "  'y': Passenger_Cars,\n",
    "  'name': 'Passenger Cars',\n",
    "  'type': 'bar'\n",
    "};\n",
    "trace2 = {\n",
    "  'x': x,\n",
    "  'y': Light_Trucks,\n",
    "  'name': 'Light Trucks',\n",
    "  'type': 'bar'\n",
    "};\n",
    "trace3 = {\n",
    "  'x': x,\n",
    "  'y': Large_Trucks,\n",
    "  'name': 'Large Trucks',\n",
    "  'type': 'bar'\n",
    " }\n",
    "\n",
    "trace4 = {\n",
    "  'x': x,\n",
    "  'y': Motorcycles,\n",
    "  'name': 'Motorcycles',\n",
    "  'type': 'bar'\n",
    " }\n",
    "\n",
    "trace5 = {\n",
    "  'x': x,\n",
    "  'y': Buses,\n",
    "  'name': 'Buses',\n",
    "  'type': 'bar'\n",
    " }\n",
    "\n",
    "trace6 = {\n",
    "  'x': x,\n",
    "  'y': Pedestrian,\n",
    "  'name': 'Pedestrian',\n",
    "  'type': 'bar'\n",
    " }\n",
    "\n",
    "trace7 = {\n",
    "  'x': x,\n",
    "  'y': Pedalcyclist,\n",
    "  'name': 'Pedalcyclist',\n",
    "  'type': 'bar'\n",
    " }\n",
    "\n",
    "\n",
    "\n",
    "data = [trace1, trace2, trace3, trace4, trace5, trace6, trace7];\n",
    "layout = {\n",
    "  'xaxis': {'title': 'Year'},\n",
    "  'yaxis': {'title': 'Accidents'},\n",
    "  'barmode': 'relative',\n",
    "  'title': 'Relative Barmode'\n",
    "};\n",
    "py.iplot({'data': data, 'layout': layout}, filename='barmode-relative', colorscale='Blues')"
   ]
  },
  {
   "cell_type": "code",
   "execution_count": 11,
   "metadata": {},
   "outputs": [],
   "source": [
    "from plotly.offline import iplot, init_notebook_mode\n",
    "import plotly.graph_objs as go\n",
    "import plotly.io as pio\n",
    "\n",
    "import os\n",
    "import numpy as np"
   ]
  },
  {
   "cell_type": "code",
   "execution_count": 14,
   "metadata": {},
   "outputs": [
    {
     "data": {
      "text/html": [
       "<iframe id=\"igraph\" scrolling=\"no\" style=\"border:none;\" seamless=\"seamless\" src=\"https://plot.ly/~mehrnazmo/11.embed\" height=\"525px\" width=\"100%\"></iframe>"
      ],
      "text/plain": [
       "<plotly.tools.PlotlyDisplay object>"
      ]
     },
     "execution_count": 14,
     "metadata": {},
     "output_type": "execute_result"
    }
   ],
   "source": [
    "N = 100\n",
    "x = np.random.rand(N)\n",
    "y = np.random.rand(N)\n",
    "colors = np.random.rand(N)\n",
    "sz = np.random.rand(N)*30\n",
    "\n",
    "fig = go.Figure()\n",
    "fig.add_scatter(x=x,\n",
    "                y=y,\n",
    "                mode='markers',\n",
    "                marker={'size': sz,\n",
    "                        'color': colors,\n",
    "                        'opacity': 0.6,\n",
    "                        'colorscale': 'Viridis'\n",
    "                       });\n",
    "py.iplot(fig)"
   ]
  },
  {
   "cell_type": "code",
   "execution_count": null,
   "metadata": {},
   "outputs": [],
   "source": []
  }
 ],
 "metadata": {
  "kernelspec": {
   "display_name": "Python 3",
   "language": "python",
   "name": "python3"
  },
  "language_info": {
   "codemirror_mode": {
    "name": "ipython",
    "version": 3
   },
   "file_extension": ".py",
   "mimetype": "text/x-python",
   "name": "python",
   "nbconvert_exporter": "python",
   "pygments_lexer": "ipython3",
   "version": "3.7.0"
  }
 },
 "nbformat": 4,
 "nbformat_minor": 2
}
